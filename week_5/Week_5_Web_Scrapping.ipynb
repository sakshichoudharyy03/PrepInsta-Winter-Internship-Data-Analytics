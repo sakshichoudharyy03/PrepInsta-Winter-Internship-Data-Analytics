{
  "nbformat": 4,
  "nbformat_minor": 0,
  "metadata": {
    "colab": {
      "provenance": []
    },
    "kernelspec": {
      "name": "python3",
      "display_name": "Python 3"
    },
    "language_info": {
      "name": "python"
    }
  },
  "cells": [
    {
      "cell_type": "markdown",
      "source": [
        "# Web Scraping using BeautifulSoup"
      ],
      "metadata": {
        "id": "IC3ngI3K8HgZ"
      }
    },
    {
      "cell_type": "markdown",
      "source": [
        "Importing libraries:"
      ],
      "metadata": {
        "id": "UkwUFLfzzboT"
      }
    },
    {
      "cell_type": "code",
      "execution_count": 35,
      "metadata": {
        "id": "IPmP4eQtremO"
      },
      "outputs": [],
      "source": [
        "import requests\n",
        "from bs4 import BeautifulSoup as bs\n",
        "\n",
        "import csv\n",
        "import pandas as pd"
      ]
    },
    {
      "cell_type": "code",
      "source": [
        "url = 'http://books.toscrape.com/'\n",
        "\n",
        "response = requests.get(url)\n",
        "response"
      ],
      "metadata": {
        "colab": {
          "base_uri": "https://localhost:8080/"
        },
        "id": "VwAigJ5Bsra8",
        "outputId": "ffc073d3-95c3-4c03-f854-71f8cbef3198"
      },
      "execution_count": 4,
      "outputs": [
        {
          "output_type": "execute_result",
          "data": {
            "text/plain": [
              "<Response [200]>"
            ]
          },
          "metadata": {},
          "execution_count": 4
        }
      ]
    },
    {
      "cell_type": "code",
      "source": [
        "response.status_code"
      ],
      "metadata": {
        "colab": {
          "base_uri": "https://localhost:8080/"
        },
        "id": "M8rk4Lhytctv",
        "outputId": "d9b8fc16-a41a-45b9-c917-ec066abb1450"
      },
      "execution_count": 5,
      "outputs": [
        {
          "output_type": "execute_result",
          "data": {
            "text/plain": [
              "200"
            ]
          },
          "metadata": {},
          "execution_count": 5
        }
      ]
    },
    {
      "cell_type": "code",
      "source": [
        "type(response)"
      ],
      "metadata": {
        "colab": {
          "base_uri": "https://localhost:8080/"
        },
        "id": "hsxAu29PuYjY",
        "outputId": "f642f2e1-a6f4-4db6-f027-a4f7934c6976"
      },
      "execution_count": 6,
      "outputs": [
        {
          "output_type": "execute_result",
          "data": {
            "text/plain": [
              "requests.models.Response"
            ]
          },
          "metadata": {},
          "execution_count": 6
        }
      ]
    },
    {
      "cell_type": "code",
      "source": [
        "print(response.text[:1000])"
      ],
      "metadata": {
        "colab": {
          "base_uri": "https://localhost:8080/"
        },
        "id": "4IPTBHsetiWl",
        "outputId": "0c841e33-1fd5-42c4-a615-45ee67153477"
      },
      "execution_count": 7,
      "outputs": [
        {
          "output_type": "stream",
          "name": "stdout",
          "text": [
            "<!DOCTYPE html>\n",
            "<!--[if lt IE 7]>      <html lang=\"en-us\" class=\"no-js lt-ie9 lt-ie8 lt-ie7\"> <![endif]-->\n",
            "<!--[if IE 7]>         <html lang=\"en-us\" class=\"no-js lt-ie9 lt-ie8\"> <![endif]-->\n",
            "<!--[if IE 8]>         <html lang=\"en-us\" class=\"no-js lt-ie9\"> <![endif]-->\n",
            "<!--[if gt IE 8]><!--> <html lang=\"en-us\" class=\"no-js\"> <!--<![endif]-->\n",
            "    <head>\n",
            "        <title>\n",
            "    All products | Books to Scrape - Sandbox\n",
            "</title>\n",
            "\n",
            "        <meta http-equiv=\"content-type\" content=\"text/html; charset=UTF-8\" />\n",
            "        <meta name=\"created\" content=\"24th Jun 2016 09:29\" />\n",
            "        <meta name=\"description\" content=\"\" />\n",
            "        <meta name=\"viewport\" content=\"width=device-width\" />\n",
            "        <meta name=\"robots\" content=\"NOARCHIVE,NOCACHE\" />\n",
            "\n",
            "        <!-- Le HTML5 shim, for IE6-8 support of HTML elements -->\n",
            "        <!--[if lt IE 9]>\n",
            "        <script src=\"//html5shim.googlecode.com/svn/trunk/html5.js\"></script>\n",
            "        <![endif]-->\n",
            "\n",
            "        \n",
            "            <link rel=\"shortcut icon\" href=\"static/oscar/favicon.\n"
          ]
        }
      ]
    },
    {
      "cell_type": "code",
      "source": [
        "type(response.text)"
      ],
      "metadata": {
        "colab": {
          "base_uri": "https://localhost:8080/"
        },
        "id": "dGO0ueEqu6_M",
        "outputId": "e39118c6-c0c1-4926-abd7-dd25e835df09"
      },
      "execution_count": 8,
      "outputs": [
        {
          "output_type": "execute_result",
          "data": {
            "text/plain": [
              "str"
            ]
          },
          "metadata": {},
          "execution_count": 8
        }
      ]
    },
    {
      "cell_type": "markdown",
      "source": [
        "Parsing the"
      ],
      "metadata": {
        "id": "gzNtS4Kqz6RD"
      }
    },
    {
      "cell_type": "code",
      "source": [
        "soup = bs(response.text, \"html\")\n",
        "type(soup)"
      ],
      "metadata": {
        "colab": {
          "base_uri": "https://localhost:8080/"
        },
        "id": "djAzAK5rvSz6",
        "outputId": "fa6f6cf1-2e43-4b10-9296-9c3a37a9cf26"
      },
      "execution_count": 26,
      "outputs": [
        {
          "output_type": "execute_result",
          "data": {
            "text/plain": [
              "bs4.BeautifulSoup"
            ]
          },
          "metadata": {},
          "execution_count": 26
        }
      ]
    },
    {
      "cell_type": "code",
      "source": [
        "soup"
      ],
      "metadata": {
        "id": "vCwJDbVVzsS1"
      },
      "execution_count": null,
      "outputs": []
    },
    {
      "cell_type": "markdown",
      "source": [
        "Extract book details for page 1"
      ],
      "metadata": {
        "id": "xlTtqH_A1Byw"
      }
    },
    {
      "cell_type": "code",
      "source": [
        "# find all book titles and their links\n",
        "\n",
        "books = soup.find_all('h3')\n",
        "\n",
        "books_extracted = 0\n",
        "books_data =[]\n",
        "\n",
        "# iterate through the bookd and extract information for each book\n",
        "for book in books:\n",
        "  book_url = book.find('a')['href']\n",
        "  book_response = requests.get(url + book_url)\n",
        "  book_soup = bs(book_response.content, \"html.parser\")\n",
        "\n",
        "  title = book_soup.find('h1').text\n",
        "  rating = book_soup.find('p', class_='star-rating')['class'][1]\n",
        "  price = book_soup.find('p', class_= 'price_color').text.strip()\n",
        "  link = url + book_url\n",
        "\n",
        "  books_extracted +=1\n",
        "  books_data.append([title, rating, price, link])\n",
        "\n",
        "  # print(f'Title: {title}')\n",
        "  # print(f'Rating: {rating}')\n",
        "  # print(f'Price: {price}')\n",
        "  # print('****')\n"
      ],
      "metadata": {
        "id": "Be216icN00iV"
      },
      "execution_count": 46,
      "outputs": []
    },
    {
      "cell_type": "markdown",
      "source": [
        "Export the data"
      ],
      "metadata": {
        "id": "BTtwMtzo5ywg"
      }
    },
    {
      "cell_type": "code",
      "source": [
        "df = pd.DataFrame(books_data, columns=[\"Title\", \"Rating\", \"Price\", \"Link\"])"
      ],
      "metadata": {
        "id": "5IvaRFjD00fp"
      },
      "execution_count": 47,
      "outputs": []
    },
    {
      "cell_type": "code",
      "source": [
        "print(df.head())"
      ],
      "metadata": {
        "colab": {
          "base_uri": "https://localhost:8080/"
        },
        "id": "JmI5yqDp00c8",
        "outputId": "41f5de47-c8bd-4699-c1ea-8977bf23ea1f"
      },
      "execution_count": 48,
      "outputs": [
        {
          "output_type": "stream",
          "name": "stdout",
          "text": [
            "                                   Title Rating   Price  \\\n",
            "0                   A Light in the Attic  Three  £51.77   \n",
            "1                     Tipping the Velvet    One  £53.74   \n",
            "2                             Soumission    One  £50.10   \n",
            "3                          Sharp Objects   Four  £47.82   \n",
            "4  Sapiens: A Brief History of Humankind   Five  £54.23   \n",
            "\n",
            "                                                Link  \n",
            "0  http://books.toscrape.com/catalogue/a-light-in...  \n",
            "1  http://books.toscrape.com/catalogue/tipping-th...  \n",
            "2  http://books.toscrape.com/catalogue/soumission...  \n",
            "3  http://books.toscrape.com/catalogue/sharp-obje...  \n",
            "4  http://books.toscrape.com/catalogue/sapiens-a-...  \n"
          ]
        }
      ]
    },
    {
      "cell_type": "code",
      "source": [
        "# save to csv\n",
        "df.to_csv(\"books_scraped.csv\")"
      ],
      "metadata": {
        "id": "KKL6ZQT000aV"
      },
      "execution_count": 49,
      "outputs": []
    }
  ]
}